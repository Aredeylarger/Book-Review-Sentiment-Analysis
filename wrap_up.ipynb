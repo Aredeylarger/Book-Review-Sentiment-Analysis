{
 "cells": [
  {
   "cell_type": "code",
   "execution_count": 5,
   "id": "31ffc7cf-1022-47dd-be52-e0cb7bab99cc",
   "metadata": {},
   "outputs": [
    {
     "name": "stdout",
     "output_type": "stream",
     "text": [
      "Overwriting app.py\n"
     ]
    }
   ],
   "source": [
    "%%writefile app.py\n",
    "\n",
    "import streamlit as st\n",
    "import joblib\n",
    "import os\n",
    "\n",
    "# Define paths to model and vectorizer\n",
    "script_dir = os.path.dirname(os.path.abspath(__file__))\n",
    "model_path = os.path.join(script_dir, \"logistic_regression_model.pkl\")\n",
    "vectorizer_path = os.path.join(script_dir, \"vectorizer.pkl\")\n",
    "\n",
    "# Check if files exist before loading\n",
    "if os.path.exists(model_path) and os.path.exists(vectorizer_path):\n",
    "    model = joblib.load(model_path)\n",
    "    vectorizer = joblib.load(vectorizer_path)\n",
    "    st.write(\"Model & vectorizer loaded successfully!\")\n",
    "else:\n",
    "    st.error(f\"File not found. Model path: {model_path}, Vectorizer path: {vectorizer_path}\")\n",
    "\n",
    "# Function to predict sentiment\n",
    "def predict_sentiment(text):\n",
    "    cleaned_text = text\n",
    "    transformed_text = vectorizer.transform([cleaned_text])\n",
    "    prediction = model.predict(transformed_text)\n",
    "    return prediction[0].upper()\n",
    "\n",
    "# Streamlit UI\n",
    "st.title(\"Sentiment Analysis Web App\")\n",
    "st.write(\"Enter a review below to analyze its sentiment.\")\n",
    "\n",
    "# User input text\n",
    "user_input = st.text_area(\"Enter your text here:\")\n",
    "\n",
    "# Predict sentiment on button click\n",
    "if st.button(\"Analyze Sentiment\"):\n",
    "    if user_input.strip():\n",
    "        result = predict_sentiment(user_input)\n",
    "        st.write(f\"### Sentiment: {result}\")\n",
    "    else:\n",
    "        st.warning(\"Please enter some text to analyze.\")"
   ]
  },
  {
   "cell_type": "code",
   "execution_count": null,
   "id": "1b9989cf-8068-438e-83fc-500de9496831",
   "metadata": {},
   "outputs": [],
   "source": []
  },
  {
   "cell_type": "code",
   "execution_count": null,
   "id": "96e08792-4626-472c-abda-60b619fdb8be",
   "metadata": {},
   "outputs": [],
   "source": []
  },
  {
   "cell_type": "code",
   "execution_count": null,
   "id": "5bf0dbb9-696c-4a8f-896d-08409dcd4359",
   "metadata": {},
   "outputs": [],
   "source": []
  }
 ],
 "metadata": {
  "kernelspec": {
   "display_name": "Python 3 (ipykernel)",
   "language": "python",
   "name": "python3"
  },
  "language_info": {
   "codemirror_mode": {
    "name": "ipython",
    "version": 3
   },
   "file_extension": ".py",
   "mimetype": "text/x-python",
   "name": "python",
   "nbconvert_exporter": "python",
   "pygments_lexer": "ipython3",
   "version": "3.12.4"
  }
 },
 "nbformat": 4,
 "nbformat_minor": 5
}
