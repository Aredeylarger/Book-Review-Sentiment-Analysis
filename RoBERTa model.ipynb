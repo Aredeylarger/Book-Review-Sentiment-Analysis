{
  "metadata": {
    "kernelspec": {
      "language": "python",
      "display_name": "Python 3",
      "name": "python3"
    },
    "language_info": {
      "name": "python",
      "version": "3.10.12",
      "mimetype": "text/x-python",
      "codemirror_mode": {
        "name": "ipython",
        "version": 3
      },
      "pygments_lexer": "ipython3",
      "nbconvert_exporter": "python",
      "file_extension": ".py"
    },
    "kaggle": {
      "accelerator": "none",
      "dataSources": [
        {
          "sourceId": 10788164,
          "sourceType": "datasetVersion",
          "datasetId": 6694803
        },
        {
          "sourceId": 10792540,
          "sourceType": "datasetVersion",
          "datasetId": 6697610
        }
      ],
      "dockerImageVersionId": 30886,
      "isInternetEnabled": false,
      "language": "python",
      "sourceType": "notebook",
      "isGpuEnabled": false
    },
    "colab": {
      "name": "Sentiment Analysis",
      "provenance": []
    }
  },
  "nbformat_minor": 0,
  "nbformat": 4,
  "cells": [
    {
      "source": [
        "# IMPORTANT: SOME KAGGLE DATA SOURCES ARE PRIVATE\n",
        "# RUN THIS CELL IN ORDER TO IMPORT YOUR KAGGLE DATA SOURCES.\n",
        "import kagglehub\n",
        "kagglehub.login()\n"
      ],
      "metadata": {
        "id": "P4v5VIFnn6Kl"
      },
      "cell_type": "code",
      "outputs": [],
      "execution_count": null
    },
    {
      "source": [
        "# IMPORTANT: RUN THIS CELL IN ORDER TO IMPORT YOUR KAGGLE DATA SOURCES,\n",
        "# THEN FEEL FREE TO DELETE THIS CELL.\n",
        "# NOTE: THIS NOTEBOOK ENVIRONMENT DIFFERS FROM KAGGLE'S PYTHON\n",
        "# ENVIRONMENT SO THERE MAY BE MISSING LIBRARIES USED BY YOUR\n",
        "# NOTEBOOK.\n",
        "\n",
        "aredeylarger_sentiment_analysis_data_path = kagglehub.dataset_download('aredeylarger/sentiment-analysis-data')\n",
        "aredeylarger_sentiment_analysis_data_ii_path = kagglehub.dataset_download('aredeylarger/sentiment-analysis-data-ii')\n",
        "\n",
        "print('Data source import complete.')\n"
      ],
      "metadata": {
        "id": "LdfBeE-Hn6Kp"
      },
      "cell_type": "code",
      "outputs": [],
      "execution_count": null
    },
    {
      "cell_type": "code",
      "source": [],
      "metadata": {
        "_uuid": "8f2839f25d086af736a60e9eeb907d3b93b6e0e5",
        "_cell_guid": "b1076dfc-b9ad-4769-8c92-a6c4dae69d19",
        "trusted": true,
        "id": "pFQJU1_Hn6Kr"
      },
      "outputs": [],
      "execution_count": null
    },
    {
      "cell_type": "code",
      "source": [
        "import pandas as pd\n",
        "from tqdm import tqdm\n",
        "import matplotlib.pyplot as plt\n",
        "\n",
        "import nltk\n",
        "# Download 'stopwords' before using it.\n",
        "nltk.download('stopwords')\n",
        "from nltk.corpus import stopwords\n",
        "stop_words = stopwords.words(\"english\")\n",
        "nltk.download (\"punkt\")\n",
        "\n",
        "\n",
        "\n",
        "from tqdm import tqdm\n",
        "\n",
        "from sklearn.feature_extraction.text import CountVectorizer\n",
        "from sklearn.feature_extraction.text import TfidfVectorizer\n",
        "\n",
        "\n",
        "#Vader\n",
        "import nltk\n",
        "nltk.download( \"vader_lexicon\" )\n",
        "\n",
        "#from vader sentiment analyzer\n",
        "from nltk.sentiment.vader import SentimentIntensityAnalyzer\n",
        "\n",
        "\n",
        "from sklearn.metrics import classification_report, accuracy_score"
      ],
      "metadata": {
        "trusted": true,
        "execution": {
          "iopub.status.busy": "2025-02-21T10:39:29.271324Z",
          "iopub.execute_input": "2025-02-21T10:39:29.271672Z",
          "iopub.status.idle": "2025-02-21T10:41:08.316863Z",
          "shell.execute_reply.started": "2025-02-21T10:39:29.271602Z",
          "shell.execute_reply": "2025-02-21T10:41:08.31571Z"
        },
        "id": "VxxkDZkgn6Kr",
        "outputId": "06bdfd7b-b757-4908-a928-9a230030bb52"
      },
      "outputs": [
        {
          "name": "stdout",
          "text": "[nltk_data] Error loading stopwords: <urlopen error [Errno -3]\n[nltk_data]     Temporary failure in name resolution>\n[nltk_data] Error loading punkt: <urlopen error [Errno -3] Temporary\n[nltk_data]     failure in name resolution>\n[nltk_data] Error loading vader_lexicon: <urlopen error [Errno -3]\n[nltk_data]     Temporary failure in name resolution>\n",
          "output_type": "stream"
        },
        {
          "name": "stderr",
          "text": "/usr/local/lib/python3.10/dist-packages/nltk/twitter/__init__.py:20: UserWarning: The twython library has not been installed. Some functionality from the twitter package will not be available.\n  warnings.warn(\"The twython library has not been installed. \"\n",
          "output_type": "stream"
        }
      ],
      "execution_count": null
    },
    {
      "cell_type": "markdown",
      "source": [
        "**LOADING DATA AND DATA MAPPING**"
      ],
      "metadata": {
        "id": "f706WYl7n6Kt"
      }
    },
    {
      "cell_type": "code",
      "source": [
        "import os\n",
        "folder_path ='/kaggle/input/sentiment-analysis-data-ii/'\n",
        "os.listdir(folder_path)"
      ],
      "metadata": {
        "trusted": true,
        "execution": {
          "iopub.status.busy": "2025-02-21T10:47:11.808962Z",
          "iopub.execute_input": "2025-02-21T10:47:11.809281Z",
          "iopub.status.idle": "2025-02-21T10:47:11.816972Z",
          "shell.execute_reply.started": "2025-02-21T10:47:11.809256Z",
          "shell.execute_reply": "2025-02-21T10:47:11.816018Z"
        },
        "id": "jPqbe5_pn6Kv",
        "outputId": "34779dab-8abe-44d3-fd74-9a8a390191c5"
      },
      "outputs": [
        {
          "execution_count": 6,
          "output_type": "execute_result",
          "data": {
            "text/plain": "['e commerce reviews train II.csv']"
          },
          "metadata": {}
        }
      ],
      "execution_count": null
    },
    {
      "cell_type": "code",
      "source": [
        "# Replace 'your_dataset.csv' with the name of your file\n",
        "file_path = '/kaggle/input/sentiment-analysis-data-ii/e commerce reviews train II.csv'\n",
        "\n",
        "\n",
        "df_train = pd.read_csv(file_path)\n",
        "\n",
        "df_train.head()"
      ],
      "metadata": {
        "trusted": true,
        "execution": {
          "iopub.status.busy": "2025-02-21T10:47:15.888053Z",
          "iopub.execute_input": "2025-02-21T10:47:15.888375Z",
          "iopub.status.idle": "2025-02-21T10:47:21.626032Z",
          "shell.execute_reply.started": "2025-02-21T10:47:15.888352Z",
          "shell.execute_reply": "2025-02-21T10:47:21.624873Z"
        },
        "id": "QLGJv7vRn6Kw",
        "outputId": "d3b01770-a33c-4130-cd96-983e7c9d83d8"
      },
      "outputs": [
        {
          "execution_count": 7,
          "output_type": "execute_result",
          "data": {
            "text/plain": "       labels                                               text\n0  __label__2  Stuning even for the non-gamer: This sound tra...\n1  __label__2  The best soundtrack ever to anything.: I'm rea...\n2  __label__2  Amazing!: This soundtrack is my favorite music...\n3  __label__2  Excellent Soundtrack: I truly like this soundt...\n4  __label__2  Remember, Pull Your Jaw Off The Floor After He...",
            "text/html": "<div>\n<style scoped>\n    .dataframe tbody tr th:only-of-type {\n        vertical-align: middle;\n    }\n\n    .dataframe tbody tr th {\n        vertical-align: top;\n    }\n\n    .dataframe thead th {\n        text-align: right;\n    }\n</style>\n<table border=\"1\" class=\"dataframe\">\n  <thead>\n    <tr style=\"text-align: right;\">\n      <th></th>\n      <th>labels</th>\n      <th>text</th>\n    </tr>\n  </thead>\n  <tbody>\n    <tr>\n      <th>0</th>\n      <td>__label__2</td>\n      <td>Stuning even for the non-gamer: This sound tra...</td>\n    </tr>\n    <tr>\n      <th>1</th>\n      <td>__label__2</td>\n      <td>The best soundtrack ever to anything.: I'm rea...</td>\n    </tr>\n    <tr>\n      <th>2</th>\n      <td>__label__2</td>\n      <td>Amazing!: This soundtrack is my favorite music...</td>\n    </tr>\n    <tr>\n      <th>3</th>\n      <td>__label__2</td>\n      <td>Excellent Soundtrack: I truly like this soundt...</td>\n    </tr>\n    <tr>\n      <th>4</th>\n      <td>__label__2</td>\n      <td>Remember, Pull Your Jaw Off The Floor After He...</td>\n    </tr>\n  </tbody>\n</table>\n</div>"
          },
          "metadata": {}
        }
      ],
      "execution_count": null
    },
    {
      "cell_type": "code",
      "source": [
        "# Replace 'your_dataset.csv' with the name of your file\n",
        "file_path = '/kaggle/input/sentiment-analysis-data/e commerce reviews test.csv'\n",
        "\n",
        "\n",
        "df_test = pd.read_csv(file_path)\n",
        "\n",
        "df_test.head()"
      ],
      "metadata": {
        "trusted": true,
        "execution": {
          "iopub.status.busy": "2025-02-21T10:47:26.788329Z",
          "iopub.execute_input": "2025-02-21T10:47:26.788639Z",
          "iopub.status.idle": "2025-02-21T10:47:31.075591Z",
          "shell.execute_reply.started": "2025-02-21T10:47:26.788616Z",
          "shell.execute_reply": "2025-02-21T10:47:31.074605Z"
        },
        "id": "YZtgl1epn6Kx",
        "outputId": "27dc9915-7c6a-4131-d817-2e964982d3f7"
      },
      "outputs": [
        {
          "execution_count": 8,
          "output_type": "execute_result",
          "data": {
            "text/plain": "       labels                                               text\n0  __label__2  Great CD: My lovely Pat has one of the GREAT v...\n1  __label__2  One of the best game music soundtracks - for a...\n2  __label__1  Batteries died within a year ...: I bought thi...\n3  __label__2  works fine, but Maha Energy is better: Check o...\n4  __label__2  Great for the non-audiophile: Reviewed quite a...",
            "text/html": "<div>\n<style scoped>\n    .dataframe tbody tr th:only-of-type {\n        vertical-align: middle;\n    }\n\n    .dataframe tbody tr th {\n        vertical-align: top;\n    }\n\n    .dataframe thead th {\n        text-align: right;\n    }\n</style>\n<table border=\"1\" class=\"dataframe\">\n  <thead>\n    <tr style=\"text-align: right;\">\n      <th></th>\n      <th>labels</th>\n      <th>text</th>\n    </tr>\n  </thead>\n  <tbody>\n    <tr>\n      <th>0</th>\n      <td>__label__2</td>\n      <td>Great CD: My lovely Pat has one of the GREAT v...</td>\n    </tr>\n    <tr>\n      <th>1</th>\n      <td>__label__2</td>\n      <td>One of the best game music soundtracks - for a...</td>\n    </tr>\n    <tr>\n      <th>2</th>\n      <td>__label__1</td>\n      <td>Batteries died within a year ...: I bought thi...</td>\n    </tr>\n    <tr>\n      <th>3</th>\n      <td>__label__2</td>\n      <td>works fine, but Maha Energy is better: Check o...</td>\n    </tr>\n    <tr>\n      <th>4</th>\n      <td>__label__2</td>\n      <td>Great for the non-audiophile: Reviewed quite a...</td>\n    </tr>\n  </tbody>\n</table>\n</div>"
          },
          "metadata": {}
        }
      ],
      "execution_count": null
    },
    {
      "cell_type": "code",
      "source": [
        "mapping  =  {\n",
        "    \"__label__1\": \"negative\",\n",
        "    \"__label__2\": \"positive\"\n",
        "}"
      ],
      "metadata": {
        "trusted": true,
        "execution": {
          "iopub.status.busy": "2025-02-21T10:47:33.78295Z",
          "iopub.execute_input": "2025-02-21T10:47:33.78326Z",
          "iopub.status.idle": "2025-02-21T10:47:33.787335Z",
          "shell.execute_reply.started": "2025-02-21T10:47:33.783236Z",
          "shell.execute_reply": "2025-02-21T10:47:33.786331Z"
        },
        "id": "C3L14TlRn6Ky"
      },
      "outputs": [],
      "execution_count": null
    },
    {
      "cell_type": "code",
      "source": [
        "df_train['labels'] = df_train['labels'].map(mapping)\n",
        "df_train.head()"
      ],
      "metadata": {
        "trusted": true,
        "execution": {
          "iopub.status.busy": "2025-02-21T10:47:36.381897Z",
          "iopub.execute_input": "2025-02-21T10:47:36.382258Z",
          "iopub.status.idle": "2025-02-21T10:47:36.476671Z",
          "shell.execute_reply.started": "2025-02-21T10:47:36.382228Z",
          "shell.execute_reply": "2025-02-21T10:47:36.475759Z"
        },
        "id": "2oX86t99n6Ky",
        "outputId": "369cdfb6-d778-483b-84ee-56538a9e90ab"
      },
      "outputs": [
        {
          "execution_count": 11,
          "output_type": "execute_result",
          "data": {
            "text/plain": "     labels                                               text\n0  positive  Stuning even for the non-gamer: This sound tra...\n1  positive  The best soundtrack ever to anything.: I'm rea...\n2  positive  Amazing!: This soundtrack is my favorite music...\n3  positive  Excellent Soundtrack: I truly like this soundt...\n4  positive  Remember, Pull Your Jaw Off The Floor After He...",
            "text/html": "<div>\n<style scoped>\n    .dataframe tbody tr th:only-of-type {\n        vertical-align: middle;\n    }\n\n    .dataframe tbody tr th {\n        vertical-align: top;\n    }\n\n    .dataframe thead th {\n        text-align: right;\n    }\n</style>\n<table border=\"1\" class=\"dataframe\">\n  <thead>\n    <tr style=\"text-align: right;\">\n      <th></th>\n      <th>labels</th>\n      <th>text</th>\n    </tr>\n  </thead>\n  <tbody>\n    <tr>\n      <th>0</th>\n      <td>positive</td>\n      <td>Stuning even for the non-gamer: This sound tra...</td>\n    </tr>\n    <tr>\n      <th>1</th>\n      <td>positive</td>\n      <td>The best soundtrack ever to anything.: I'm rea...</td>\n    </tr>\n    <tr>\n      <th>2</th>\n      <td>positive</td>\n      <td>Amazing!: This soundtrack is my favorite music...</td>\n    </tr>\n    <tr>\n      <th>3</th>\n      <td>positive</td>\n      <td>Excellent Soundtrack: I truly like this soundt...</td>\n    </tr>\n    <tr>\n      <th>4</th>\n      <td>positive</td>\n      <td>Remember, Pull Your Jaw Off The Floor After He...</td>\n    </tr>\n  </tbody>\n</table>\n</div>"
          },
          "metadata": {}
        }
      ],
      "execution_count": null
    },
    {
      "cell_type": "code",
      "source": [
        "df_test['labels'] = df_test['labels'].map(mapping)\n",
        "df_test.head()"
      ],
      "metadata": {
        "trusted": true,
        "execution": {
          "iopub.status.busy": "2025-02-21T10:47:39.881719Z",
          "iopub.execute_input": "2025-02-21T10:47:39.882059Z",
          "iopub.status.idle": "2025-02-21T10:47:39.925194Z",
          "shell.execute_reply.started": "2025-02-21T10:47:39.882033Z",
          "shell.execute_reply": "2025-02-21T10:47:39.924197Z"
        },
        "id": "n5XDxmTcn6Kz",
        "outputId": "484592f9-0741-4903-eb9c-3631a0cf8097"
      },
      "outputs": [
        {
          "execution_count": 12,
          "output_type": "execute_result",
          "data": {
            "text/plain": "     labels                                               text\n0  positive  Great CD: My lovely Pat has one of the GREAT v...\n1  positive  One of the best game music soundtracks - for a...\n2  negative  Batteries died within a year ...: I bought thi...\n3  positive  works fine, but Maha Energy is better: Check o...\n4  positive  Great for the non-audiophile: Reviewed quite a...",
            "text/html": "<div>\n<style scoped>\n    .dataframe tbody tr th:only-of-type {\n        vertical-align: middle;\n    }\n\n    .dataframe tbody tr th {\n        vertical-align: top;\n    }\n\n    .dataframe thead th {\n        text-align: right;\n    }\n</style>\n<table border=\"1\" class=\"dataframe\">\n  <thead>\n    <tr style=\"text-align: right;\">\n      <th></th>\n      <th>labels</th>\n      <th>text</th>\n    </tr>\n  </thead>\n  <tbody>\n    <tr>\n      <th>0</th>\n      <td>positive</td>\n      <td>Great CD: My lovely Pat has one of the GREAT v...</td>\n    </tr>\n    <tr>\n      <th>1</th>\n      <td>positive</td>\n      <td>One of the best game music soundtracks - for a...</td>\n    </tr>\n    <tr>\n      <th>2</th>\n      <td>negative</td>\n      <td>Batteries died within a year ...: I bought thi...</td>\n    </tr>\n    <tr>\n      <th>3</th>\n      <td>positive</td>\n      <td>works fine, but Maha Energy is better: Check o...</td>\n    </tr>\n    <tr>\n      <th>4</th>\n      <td>positive</td>\n      <td>Great for the non-audiophile: Reviewed quite a...</td>\n    </tr>\n  </tbody>\n</table>\n</div>"
          },
          "metadata": {}
        }
      ],
      "execution_count": null
    },
    {
      "cell_type": "code",
      "source": [
        "plt.figure(figsize = (3,3))\n",
        "st = df_train['labels'].value_counts().plot(kind='bar')\n",
        "st.set_ylabel('Count', size=10)\n",
        "st.set_xticklabels(['Positive','Negative'], rotation=0)\n",
        "st.set_title('Label');\n",
        "plt.show()"
      ],
      "metadata": {
        "trusted": true,
        "execution": {
          "iopub.status.busy": "2025-02-21T10:47:43.55929Z",
          "iopub.execute_input": "2025-02-21T10:47:43.559685Z",
          "iopub.status.idle": "2025-02-21T10:47:43.901339Z",
          "shell.execute_reply.started": "2025-02-21T10:47:43.559617Z",
          "shell.execute_reply": "2025-02-21T10:47:43.900223Z"
        },
        "id": "FJvR2vJ_n6Kz",
        "outputId": "f7c78d67-60cf-4ad0-dd72-c4587e90f916"
      },
      "outputs": [
        {
          "output_type": "display_data",
          "data": {
            "text/plain": "<Figure size 300x300 with 1 Axes>",
            "image/png": "[encoded data removed]"
          },
          "metadata": {}
        }
      ],
      "execution_count": null
    },
    {
      "cell_type": "code",
      "source": [
        "df_train.labels.value_counts()"
      ],
      "metadata": {
        "trusted": true,
        "execution": {
          "iopub.status.busy": "2025-02-21T10:47:46.953922Z",
          "iopub.execute_input": "2025-02-21T10:47:46.954364Z",
          "iopub.status.idle": "2025-02-21T10:47:47.01684Z",
          "shell.execute_reply.started": "2025-02-21T10:47:46.954331Z",
          "shell.execute_reply": "2025-02-21T10:47:47.015626Z"
        },
        "id": "7ZL5kP_Tn6K0",
        "outputId": "98c1fafc-13eb-4302-c83f-1f67900a25c4"
      },
      "outputs": [
        {
          "execution_count": 14,
          "output_type": "execute_result",
          "data": {
            "text/plain": "labels\npositive    486775\nnegative    476367\nName: count, dtype: int64"
          },
          "metadata": {}
        }
      ],
      "execution_count": null
    },
    {
      "cell_type": "code",
      "source": [
        "df_test.labels.value_counts()"
      ],
      "metadata": {
        "trusted": true,
        "execution": {
          "iopub.status.busy": "2025-02-21T10:47:49.227947Z",
          "iopub.execute_input": "2025-02-21T10:47:49.228307Z",
          "iopub.status.idle": "2025-02-21T10:47:49.256185Z",
          "shell.execute_reply.started": "2025-02-21T10:47:49.228277Z",
          "shell.execute_reply": "2025-02-21T10:47:49.25495Z"
        },
        "id": "hKaCxU39n6K0",
        "outputId": "921fd381-0e1c-4eb4-8525-485993263cf1"
      },
      "outputs": [
        {
          "execution_count": 15,
          "output_type": "execute_result",
          "data": {
            "text/plain": "labels\npositive    200000\nnegative    200000\nName: count, dtype: int64"
          },
          "metadata": {}
        }
      ],
      "execution_count": null
    },
    {
      "cell_type": "markdown",
      "source": [
        "**REMOVING STOPSWORDS**"
      ],
      "metadata": {
        "id": "9zQHtxOBn6K0"
      }
    },
    {
      "cell_type": "code",
      "source": [
        "#tokenization\n",
        "\n",
        "def remove_stopwords(words):\n",
        "     word = nltk.word_tokenize(words)\n",
        "     new_word = [word for word in word if word not in stop_words]\n",
        "     new_word = \" \".join(new_word)\n",
        "     return new_word"
      ],
      "metadata": {
        "trusted": true,
        "execution": {
          "iopub.status.busy": "2025-02-21T10:48:07.464222Z",
          "iopub.execute_input": "2025-02-21T10:48:07.464533Z",
          "iopub.status.idle": "2025-02-21T10:48:07.469521Z",
          "shell.execute_reply.started": "2025-02-21T10:48:07.464507Z",
          "shell.execute_reply": "2025-02-21T10:48:07.468412Z"
        },
        "id": "Wuvoovjqn6K0"
      },
      "outputs": [],
      "execution_count": null
    },
    {
      "cell_type": "code",
      "source": [
        "text = \"i love this man JESUS, he saves me daily\"\n",
        "remove_stopwords(text)"
      ],
      "metadata": {
        "trusted": true,
        "execution": {
          "iopub.status.busy": "2025-02-21T10:48:12.7969Z",
          "iopub.execute_input": "2025-02-21T10:48:12.797246Z",
          "iopub.status.idle": "2025-02-21T10:48:12.815533Z",
          "shell.execute_reply.started": "2025-02-21T10:48:12.797217Z",
          "shell.execute_reply": "2025-02-21T10:48:12.814756Z"
        },
        "id": "8DpEeTDqn6K0",
        "outputId": "9c042ce9-4bce-440b-f357-9d4bffc5bcab"
      },
      "outputs": [
        {
          "execution_count": 18,
          "output_type": "execute_result",
          "data": {
            "text/plain": "'love man JESUS , saves daily'"
          },
          "metadata": {}
        }
      ],
      "execution_count": null
    },
    {
      "cell_type": "code",
      "source": [
        "df_train[\"text\"].head(10).apply(remove_stopwords)"
      ],
      "metadata": {
        "trusted": true,
        "execution": {
          "iopub.status.busy": "2025-02-21T10:48:15.520781Z",
          "iopub.execute_input": "2025-02-21T10:48:15.521162Z",
          "iopub.status.idle": "2025-02-21T10:48:15.541693Z",
          "shell.execute_reply.started": "2025-02-21T10:48:15.521119Z",
          "shell.execute_reply": "2025-02-21T10:48:15.540774Z"
        },
        "id": "njGxaAVhn6K0",
        "outputId": "16674336-4848-41dc-caa1-0441162cdbda"
      },
      "outputs": [
        {
          "execution_count": 19,
          "output_type": "execute_result",
          "data": {
            "text/plain": "0    Stuning even non-gamer : This sound track beau...\n1    The best soundtrack ever anything . : I 'm rea...\n2    Amazing ! : This soundtrack favorite music tim...\n3    Excellent Soundtrack : I truly like soundtrack...\n4    Remember , Pull Your Jaw Off The Floor After H...\n5    absolute masterpiece : I quite sure actually t...\n6    Buyer beware : This self-published book , want...\n7    Glorious story : I loved Whisper wicked saints...\n8    A FIVE STAR BOOK : I finished reading Whisper ...\n9    Whispers Wicked Saints : This easy read book m...\nName: text, dtype: object"
          },
          "metadata": {}
        }
      ],
      "execution_count": null
    },
    {
      "cell_type": "code",
      "source": [
        "total_rows = len(df_train)\n",
        "tqdm.pandas(total = total_rows)\n",
        "df_train[\"new_text\"] = df_train[\"text\"].progress_apply(remove_stopwords)"
      ],
      "metadata": {
        "trusted": true,
        "execution": {
          "iopub.status.busy": "2025-02-21T10:48:19.308886Z",
          "iopub.execute_input": "2025-02-21T10:48:19.309327Z",
          "iopub.status.idle": "2025-02-21T11:02:50.988843Z",
          "shell.execute_reply.started": "2025-02-21T10:48:19.309293Z",
          "shell.execute_reply": "2025-02-21T11:02:50.987509Z"
        },
        "id": "1ZTELExOn6K1",
        "outputId": "c2859e42-e2de-490b-eddd-49b9f0213c4a"
      },
      "outputs": [
        {
          "name": "stderr",
          "text": "100%|██████████| 963142/963142 [14:31<00:00, 1105.00it/s]\n",
          "output_type": "stream"
        }
      ],
      "execution_count": null
    },
    {
      "cell_type": "code",
      "source": [
        "df_train.head()"
      ],
      "metadata": {
        "trusted": true,
        "execution": {
          "iopub.status.busy": "2025-02-21T11:06:03.760503Z",
          "iopub.execute_input": "2025-02-21T11:06:03.760894Z",
          "iopub.status.idle": "2025-02-21T11:06:03.771067Z",
          "shell.execute_reply.started": "2025-02-21T11:06:03.760862Z",
          "shell.execute_reply": "2025-02-21T11:06:03.770041Z"
        },
        "id": "I4wZmHoZn6K1",
        "outputId": "87d89099-8180-4bec-c5ec-888063f2a235"
      },
      "outputs": [
        {
          "execution_count": 21,
          "output_type": "execute_result",
          "data": {
            "text/plain": "     labels                                               text  \\\n0  positive  Stuning even for the non-gamer: This sound tra...   \n1  positive  The best soundtrack ever to anything.: I'm rea...   \n2  positive  Amazing!: This soundtrack is my favorite music...   \n3  positive  Excellent Soundtrack: I truly like this soundt...   \n4  positive  Remember, Pull Your Jaw Off The Floor After He...   \n\n                                            new_text  \n0  Stuning even non-gamer : This sound track beau...  \n1  The best soundtrack ever anything . : I 'm rea...  \n2  Amazing ! : This soundtrack favorite music tim...  \n3  Excellent Soundtrack : I truly like soundtrack...  \n4  Remember , Pull Your Jaw Off The Floor After H...  ",
            "text/html": "<div>\n<style scoped>\n    .dataframe tbody tr th:only-of-type {\n        vertical-align: middle;\n    }\n\n    .dataframe tbody tr th {\n        vertical-align: top;\n    }\n\n    .dataframe thead th {\n        text-align: right;\n    }\n</style>\n<table border=\"1\" class=\"dataframe\">\n  <thead>\n    <tr style=\"text-align: right;\">\n      <th></th>\n      <th>labels</th>\n      <th>text</th>\n      <th>new_text</th>\n    </tr>\n  </thead>\n  <tbody>\n    <tr>\n      <th>0</th>\n      <td>positive</td>\n      <td>Stuning even for the non-gamer: This sound tra...</td>\n      <td>Stuning even non-gamer : This sound track beau...</td>\n    </tr>\n    <tr>\n      <th>1</th>\n      <td>positive</td>\n      <td>The best soundtrack ever to anything.: I'm rea...</td>\n      <td>The best soundtrack ever anything . : I 'm rea...</td>\n    </tr>\n    <tr>\n      <th>2</th>\n      <td>positive</td>\n      <td>Amazing!: This soundtrack is my favorite music...</td>\n      <td>Amazing ! : This soundtrack favorite music tim...</td>\n    </tr>\n    <tr>\n      <th>3</th>\n      <td>positive</td>\n      <td>Excellent Soundtrack: I truly like this soundt...</td>\n      <td>Excellent Soundtrack : I truly like soundtrack...</td>\n    </tr>\n    <tr>\n      <th>4</th>\n      <td>positive</td>\n      <td>Remember, Pull Your Jaw Off The Floor After He...</td>\n      <td>Remember , Pull Your Jaw Off The Floor After H...</td>\n    </tr>\n  </tbody>\n</table>\n</div>"
          },
          "metadata": {}
        }
      ],
      "execution_count": null
    },
    {
      "cell_type": "code",
      "source": [
        "total_rows = len(df_test)\n",
        "tqdm.pandas(total = total_rows)\n",
        "df_test[\"new_text\"] = df_test[\"text\"].progress_apply(remove_stopwords)"
      ],
      "metadata": {
        "trusted": true,
        "execution": {
          "iopub.status.busy": "2025-02-21T11:06:06.934408Z",
          "iopub.execute_input": "2025-02-21T11:06:06.934795Z"
        },
        "id": "zZMk5o_sn6K1",
        "outputId": "7fc26722-2a27-4432-c7f7-04d6d28402d3"
      },
      "outputs": [
        {
          "name": "stderr",
          "text": " 48%|████▊     | 193707/400000 [02:55<03:10, 1084.96it/s]",
          "output_type": "stream"
        }
      ],
      "execution_count": null
    },
    {
      "cell_type": "code",
      "source": [
        "df_test.head()"
      ],
      "metadata": {
        "trusted": true,
        "id": "GtepUuUBn6K1"
      },
      "outputs": [],
      "execution_count": null
    },
    {
      "cell_type": "code",
      "source": [
        "#TFIDF\n",
        "tf_vectorizer = TfidfVectorizer()\n",
        "train_tf = tf_vectorizer.fit_transform(df_train['new_text'])\n",
        "test_tf = tf_vectorizer.transform(df_test['new_text'])"
      ],
      "metadata": {
        "trusted": true,
        "id": "oZVq-r_0n6K1"
      },
      "outputs": [],
      "execution_count": null
    },
    {
      "cell_type": "code",
      "source": [
        "word_analyzer =  SentimentIntensityAnalyzer()"
      ],
      "metadata": {
        "trusted": true,
        "execution": {
          "iopub.status.busy": "2025-02-21T10:41:08.515263Z",
          "iopub.status.idle": "2025-02-21T10:41:08.515612Z",
          "shell.execute_reply": "2025-02-21T10:41:08.515489Z"
        },
        "id": "G__Z-PTon6K1"
      },
      "outputs": [],
      "execution_count": null
    },
    {
      "cell_type": "code",
      "source": [
        "def sentence_analyzer(sentence):\n",
        "    s_score = word_analyzer.polarity_scores(sentence)\n",
        "    compound_score = s_score['compound']\n",
        "\n",
        "    if compound_score > 0:\n",
        "        return 'positive'\n",
        "    else:\n",
        "        return 'negative'\n",
        "\n",
        ""
      ],
      "metadata": {
        "trusted": true,
        "execution": {
          "iopub.status.busy": "2025-02-21T10:41:08.51663Z",
          "iopub.status.idle": "2025-02-21T10:41:08.51708Z",
          "shell.execute_reply": "2025-02-21T10:41:08.51695Z"
        },
        "id": "Q71IzSzpn6K1"
      },
      "outputs": [],
      "execution_count": null
    },
    {
      "cell_type": "code",
      "source": [
        "#applying vader\n",
        "df_train['vader_app'] = df_train['new_text'].apply(sentence_analyzer)\n",
        "df_train.head()"
      ],
      "metadata": {
        "trusted": true,
        "execution": {
          "iopub.status.busy": "2025-02-21T10:41:08.517901Z",
          "iopub.status.idle": "2025-02-21T10:41:08.518282Z",
          "shell.execute_reply": "2025-02-21T10:41:08.518098Z"
        },
        "id": "gdpw8ldGn6K2"
      },
      "outputs": [],
      "execution_count": null
    },
    {
      "cell_type": "code",
      "source": [
        "#applying vadar om test dataset\n",
        "df_test['vader_app'] = df_test['new_text'].apply(sentence_analyzer)\n",
        "df_test.head()"
      ],
      "metadata": {
        "trusted": true,
        "execution": {
          "iopub.status.busy": "2025-02-21T10:41:08.519481Z",
          "iopub.status.idle": "2025-02-21T10:41:08.519884Z",
          "shell.execute_reply": "2025-02-21T10:41:08.519707Z"
        },
        "id": "TcL0QK87n6K2"
      },
      "outputs": [],
      "execution_count": null
    },
    {
      "cell_type": "raw",
      "source": [
        "TRANSFORMER MODEL"
      ],
      "metadata": {
        "id": "YM6MmeCEn6K2"
      }
    },
    {
      "cell_type": "code",
      "source": [
        "from transformers import GPT2Tokenizer, TFGPT2Model\n",
        "tokenizer = GPT2Tokenizer.from_pretrained('distilgpt2')\n",
        "model = TFGPT2Model.from_pretrained('distilgpt2')\n",
        "text = \"Replace me by any text you'd like.\"\n",
        "encoded_input = tokenizer(text, return_tensors='tf')\n",
        "output = model(encoded_input)\n"
      ],
      "metadata": {
        "trusted": true,
        "execution": {
          "iopub.status.busy": "2025-02-21T10:41:08.52086Z",
          "iopub.status.idle": "2025-02-21T10:41:08.521213Z",
          "shell.execute_reply": "2025-02-21T10:41:08.52105Z"
        },
        "id": "8w-sNNNln6K2"
      },
      "outputs": [],
      "execution_count": null
    },
    {
      "cell_type": "code",
      "source": [
        "# Split the train data into training and validation sets\n",
        "train_df, val_df = train_test_split(df_train, test_size=0.2, random_state=42)"
      ],
      "metadata": {
        "trusted": true,
        "execution": {
          "iopub.status.busy": "2025-02-21T10:41:08.522063Z",
          "iopub.status.idle": "2025-02-21T10:41:08.522415Z",
          "shell.execute_reply": "2025-02-21T10:41:08.522292Z"
        },
        "id": "rLykW_Iwn6K2"
      },
      "outputs": [],
      "execution_count": null
    },
    {
      "cell_type": "code",
      "source": [
        "# Convert pandas DataFrames to Hugging Face Dataset\n",
        "train_dataset = Dataset.from_pandas(train_df)\n",
        "val_dataset = Dataset.from_pandas(val_df)\n",
        "test_dataset = Dataset.from_pandas(df_test)"
      ],
      "metadata": {
        "trusted": true,
        "execution": {
          "iopub.status.busy": "2025-02-21T10:41:08.523496Z",
          "iopub.status.idle": "2025-02-21T10:41:08.524114Z",
          "shell.execute_reply": "2025-02-21T10:41:08.523934Z"
        },
        "id": "SZURwJSdn6K2"
      },
      "outputs": [],
      "execution_count": null
    },
    {
      "cell_type": "code",
      "source": [
        "from transformers import RobertaTokenizer\n",
        "\n",
        "# Load the tokenizer from the local directory\n",
        "tokenizer = RobertaTokenizer.from_pretrained(\"/kaggle/input/sentiment-analysis-data-ii/roberta-base-tokenizer\")"
      ],
      "metadata": {
        "trusted": true,
        "execution": {
          "iopub.status.busy": "2025-02-21T10:41:08.524855Z",
          "iopub.status.idle": "2025-02-21T10:41:08.525246Z",
          "shell.execute_reply": "2025-02-21T10:41:08.525065Z"
        },
        "id": "hQn6KvOAn6K2"
      },
      "outputs": [],
      "execution_count": null
    },
    {
      "cell_type": "code",
      "source": [
        "import os\n",
        "\n",
        "# Check if a local directory named 'roberta-base' exists\n",
        "if os.path.exists(\"roberta-base\"):\n",
        "    print(\"A local directory named 'roberta-base' exists. Rename or move it.\")\n",
        "else:\n",
        "    print(\"No conflicting directory found.\")"
      ],
      "metadata": {
        "trusted": true,
        "execution": {
          "iopub.status.busy": "2025-02-21T10:41:08.526464Z",
          "iopub.status.idle": "2025-02-21T10:41:08.526882Z",
          "shell.execute_reply": "2025-02-21T10:41:08.526681Z"
        },
        "id": "LjPc1mZpn6K2"
      },
      "outputs": [],
      "execution_count": null
    },
    {
      "cell_type": "code",
      "source": [
        "# Load the RoBERTa tokenizer\n",
        "from transformers import RobertaTokenizer\n",
        "\n",
        "# Use DistilRoBERTa instead\n",
        "tokenizer = RobertaTokenizer.from_pretrained(\"distilroberta-base\")\n",
        "\n",
        "\n",
        "\n",
        "# Tokenize the datasets\n",
        "def tokenize_function(examples):\n",
        "    return tokenizer(examples[\"cleaned_text\"], padding=\"max_length\", truncation=True)\n",
        "\n",
        "train_dataset = train_dataset.map(tokenize_function, batched=True)\n",
        "val_dataset = val_dataset.map(tokenize_function, batched=True)\n",
        "test_dataset = test_dataset.map(tokenize_function, batched=True)"
      ],
      "metadata": {
        "trusted": true,
        "execution": {
          "iopub.status.busy": "2025-02-21T10:41:08.527796Z",
          "iopub.status.idle": "2025-02-21T10:41:08.528141Z",
          "shell.execute_reply": "2025-02-21T10:41:08.527984Z"
        },
        "id": "7YkdMdSvn6K3"
      },
      "outputs": [],
      "execution_count": null
    },
    {
      "cell_type": "code",
      "source": [
        "# Set the format for PyTorch\n",
        "train_dataset.set_format(type=\"torch\", columns=[\"input_ids\", \"attention_mask\", \"label\"])\n",
        "val_dataset.set_format(type=\"torch\", columns=[\"input_ids\", \"attention_mask\", \"label\"])\n",
        "test_dataset.set_format(type=\"torch\", columns=[\"input_ids\", \"attention_mask\"])\n"
      ],
      "metadata": {
        "trusted": true,
        "execution": {
          "iopub.status.busy": "2025-02-21T10:41:08.5291Z",
          "iopub.status.idle": "2025-02-21T10:41:08.529426Z",
          "shell.execute_reply": "2025-02-21T10:41:08.5293Z"
        },
        "id": "S9tBCZR9n6K3"
      },
      "outputs": [],
      "execution_count": null
    },
    {
      "cell_type": "code",
      "source": [
        "# Load the RoBERTa model for sequence classification\n",
        "model = RobertaForSequenceClassification.from_pretrained(\"distilroberta-base\", num_labels=len(train_data['label'].unique()))\n",
        "\n",
        "# Define training arguments\n",
        "training_args = TrainingArguments(\n",
        "    output_dir=\"./results\",\n",
        "    evaluation_strategy=\"epoch\",\n",
        "    learning_rate=2e-5,\n",
        "    per_device_train_batch_size=16,\n",
        "    per_device_eval_batch_size=16,\n",
        "    num_train_epochs=3,\n",
        "    weight_decay=0.01,\n",
        "    save_total_limit=2,\n",
        "    save_steps=500,\n",
        "    logging_dir=\"./logs\",\n",
        "    logging_steps=10,\n",
        ")\n"
      ],
      "metadata": {
        "trusted": true,
        "execution": {
          "iopub.status.busy": "2025-02-21T10:41:08.530054Z",
          "iopub.status.idle": "2025-02-21T10:41:08.530355Z",
          "shell.execute_reply": "2025-02-21T10:41:08.530233Z"
        },
        "id": "IGAaHfKan6K3"
      },
      "outputs": [],
      "execution_count": null
    },
    {
      "cell_type": "code",
      "source": [
        "# Define the Trainer\n",
        "trainer = Trainer(\n",
        "    model=model,\n",
        "    args=training_args,\n",
        "    train_dataset=train_dataset,\n",
        "    eval_dataset=val_dataset,\n",
        ")\n",
        "\n",
        "# Train the model\n",
        "trainer.train()"
      ],
      "metadata": {
        "trusted": true,
        "execution": {
          "iopub.status.busy": "2025-02-21T10:41:08.531788Z",
          "iopub.status.idle": "2025-02-21T10:41:08.53215Z",
          "shell.execute_reply": "2025-02-21T10:41:08.53199Z"
        },
        "id": "VfXTkLLin6K3"
      },
      "outputs": [],
      "execution_count": null
    },
    {
      "cell_type": "code",
      "source": [
        "# Predict on the test dataset\n",
        "predictions = trainer.predict(test_dataset)\n",
        "predicted_labels = torch.argmax(torch.tensor(predictions.predictions), dim=-1).numpy()\n",
        "\n",
        "# Add the predicted labels to the test data\n",
        "test_data[\"predicted_label\"] = predicted_labels"
      ],
      "metadata": {
        "trusted": true,
        "execution": {
          "iopub.status.busy": "2025-02-21T10:41:08.533049Z",
          "iopub.status.idle": "2025-02-21T10:41:08.533429Z",
          "shell.execute_reply": "2025-02-21T10:41:08.533299Z"
        },
        "id": "fIpTSlzTn6K3"
      },
      "outputs": [],
      "execution_count": null
    },
    {
      "cell_type": "code",
      "source": [],
      "metadata": {
        "trusted": true,
        "id": "ck9vreWzn6K3"
      },
      "outputs": [],
      "execution_count": null
    }
  ]
}